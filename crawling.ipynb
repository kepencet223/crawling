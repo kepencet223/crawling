{
 "cells": [
  {
   "cell_type": "code",
   "execution_count": null,
   "id": "fe425843",
   "metadata": {},
   "outputs": [],
   "source": []
  },
  {
   "cell_type": "code",
   "execution_count": 6,
   "id": "d1e03aa0",
   "metadata": {},
   "outputs": [],
   "source": [
    "import nest_asyncio\n",
    "nest_asyncio.apply() #digunakan sekali untuk mengaktifkan tindakan serentak dalam notebook jupyter.\n",
    "import twint #untuk import twint"
   ]
  },
  {
   "cell_type": "code",
   "execution_count": null,
   "id": "9076e8ae",
   "metadata": {},
   "outputs": [],
   "source": []
  },
  {
   "cell_type": "code",
   "execution_count": null,
   "id": "99daf2c3",
   "metadata": {},
   "outputs": [],
   "source": [
    "c = twint.Config()\n",
    "c.Search = 'jokowi'\n",
    "c.Pandas = True\n",
    "c.Limit = 500\n",
    "twint.run.Search(c)\n",
    "Tweets_df = twint.storage.panda.Tweets_df\n",
    "Tweets_df.head()\n",
    "Tweets_df.to_csv(\"jokowi.csv\", index=False)"
   ]
  },
  {
   "cell_type": "code",
   "execution_count": null,
   "id": "9940b4e8",
   "metadata": {},
   "outputs": [],
   "source": []
  },
  {
   "cell_type": "code",
   "execution_count": 25,
   "id": "b2fdb6b7",
   "metadata": {},
   "outputs": [
    {
     "name": "stdout",
     "output_type": "stream",
     "text": [
      "Judul: Syuting Drakor 'Arthdal Chronicles' Season 2 Terancam Gagal Akibat COVID-19\n",
      "Penulis: ['Review Drakor']\n",
      "Tanggal publikasi: None\n",
      "Teks berita: Pihak produksi mengatakan kalau mereka tak bisa melakukan syuting di luar Korea akibat masa\n",
      "\n",
      "pandemi\n",
      "\n",
      "yang terjadi. Alhasil, mereka juga harus mengatur ulang jadwal dengan semua pemeran musim kedua\n",
      "\n",
      "Arthdal Chronicles\n",
      "\n",
      ".\n",
      "Gambar utama: https://blue.kumparan.com/image/upload/c_lpad,b_white,f_jpg,h_315,q_auto,w_600/g_south,l_og_user_zprw89/co_rgb:ffffff,g_south_west,l_text:Heebo_20_bold:Konten%20dari%20Pengguna%0DReview%20Drakor,x_140,y_26/h0eicoytjm7kbvuuhhtl.jpg\n"
     ]
    }
   ],
   "source": [
    "from newspaper import Article\n",
    "article = Article('https://kumparan.com/review-drakor/syuting-drakor-arthdal-chronicles-season-2-terancam-gagal-akibat-covid-19-1tb0lYIAACQ/full', 'id') # Indonesia\n",
    "article.download()\n",
    "article.parse()\n",
    "print('Judul:', article.title)\n",
    "print('Penulis:', article.authors)\n",
    "print('Tanggal publikasi:', article.publish_date)\n",
    "print('Teks berita:', article.text)\n",
    "print('Gambar utama:', article.top_image)"
   ]
  },
  {
   "cell_type": "code",
   "execution_count": null,
   "id": "4c8e8dd5",
   "metadata": {},
   "outputs": [],
   "source": []
  },
  {
   "cell_type": "code",
   "execution_count": null,
   "id": "e55edf35",
   "metadata": {},
   "outputs": [],
   "source": []
  }
 ],
 "metadata": {
  "kernelspec": {
   "display_name": "Python 3 (ipykernel)",
   "language": "python",
   "name": "python3"
  },
  "language_info": {
   "codemirror_mode": {
    "name": "ipython",
    "version": 3
   },
   "file_extension": ".py",
   "mimetype": "text/x-python",
   "name": "python",
   "nbconvert_exporter": "python",
   "pygments_lexer": "ipython3",
   "version": "3.9.13"
  }
 },
 "nbformat": 4,
 "nbformat_minor": 5
}
